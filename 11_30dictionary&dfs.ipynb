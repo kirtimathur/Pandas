{

 "cells": [
  {
   "cell_type": "code",
   "execution_count": 5,
   "id": "a02b5df4",
   "metadata": {},
   "outputs": [],
   "source": [
    "import pandas as pd"
   ]
  },
  {
   "cell_type": "code",
   "execution_count": 1,
   "id": "38c4cc85",
   "metadata": {},
   "outputs": [],
   "source": [
    "#task1: take a string from the user, input: madrid, output: d={0:m,1:a,...}\n",
    "#task2: output: d={ascii of m:m,ascii of a:a,...} [ord(m)]\n",
    "#task3: take student data from user in a dict (no. of keys depends on user) the convert to data frame"
   ]
  },
  {
   "cell_type": "code",
   "execution_count": 2,
   "id": "f6a5d1e4",
   "metadata": {},
   "outputs": [
    {
     "name": "stdout",
     "output_type": "stream",
     "text": [
      "enter a string:mandala\n",
      "{0: 'm', 1: 'a', 2: 'n', 3: 'd', 4: 'a', 5: 'l', 6: 'a'}\n"
     ]
    }
   ],
   "source": [
    "#1\n",
    "s=input(\"enter a string:\")\n",
    "d={}\n",
    "key=0\n",
    "for i in s:\n",
    "    d[key]=i\n",
    "    key+=1\n",
    "print(d)"
   ]
  },
  {
   "cell_type": "code",
   "execution_count": 3,
   "id": "025a35a4",
   "metadata": {},
   "outputs": [
    {
     "name": "stdout",
     "output_type": "stream",
     "text": [
      "enter a string:mandala\n",
      "{109: 'm', 97: 'a', 110: 'n', 100: 'd', 108: 'l'}\n"
     ]
    }
   ],
   "source": [
    "#2\n",
    "s=input(\"enter a string:\")\n",
    "d={}\n",
    "#key=0\n",
    "for i in s:\n",
    "    key=i\n",
    "    asc=ord(key)\n",
    "    d[asc]=i\n",
    "    #key+=1\n",
    "print(d) #keys can't be repeated, so not last d"
   ]
  },
  {
   "cell_type": "code",
   "execution_count": 6,
   "id": "4d9e39b0",
   "metadata": {},
   "outputs": [
    {
     "name": "stdout",
     "output_type": "stream",
     "text": [
      "enter the number of columns:2\n",
      "enter the key:roll_no\n",
      "enter the details:101 102 103\n",
      "enter the key:name\n",
      "enter the details:samuel radha maddy\n",
      "{'roll_no': ['101', '102', '103'], 'name': ['samuel', 'radha', 'maddy']}\n"
     ]
    },
    {
     "data": {
      "text/html": [
       "<div>\n",
       "<style scoped>\n",
       "    .dataframe tbody tr th:only-of-type {\n",
       "        vertical-align: middle;\n",
       "    }\n",
       "\n",
       "    .dataframe tbody tr th {\n",
       "        vertical-align: top;\n",
       "    }\n",
       "\n",
       "    .dataframe thead th {\n",
       "        text-align: right;\n",
       "    }\n",
       "</style>\n",
       "<table border=\"1\" class=\"dataframe\">\n",
       "  <thead>\n",
       "    <tr style=\"text-align: right;\">\n",
       "      <th></th>\n",
       "      <th>roll_no</th>\n",
       "      <th>name</th>\n",
       "    </tr>\n",
       "  </thead>\n",
       "  <tbody>\n",
       "    <tr>\n",
       "      <th>0</th>\n",
       "      <td>101</td>\n",
       "      <td>samuel</td>\n",
       "    </tr>\n",
       "    <tr>\n",
       "      <th>1</th>\n",
       "      <td>102</td>\n",
       "      <td>radha</td>\n",
       "    </tr>\n",
       "    <tr>\n",
       "      <th>2</th>\n",
       "      <td>103</td>\n",
       "      <td>maddy</td>\n",
       "    </tr>\n",
       "  </tbody>\n",
       "</table>\n",
       "</div>"
      ],
      "text/plain": [
       "  roll_no    name\n",
       "0     101  samuel\n",
       "1     102   radha\n",
       "2     103   maddy"
      ]
     },
     "execution_count": 6,
     "metadata": {},
     "output_type": "execute_result"
    }
   ],
   "source": [
    "#3\n",
    "col=int(input(\"enter the number of columns:\"))\n",
    "d={}\n",
    "for i in range(0,col):\n",
    "    k=input(\"enter the key:\")\n",
    "    l=input(\"enter the details:\").split()\n",
    "    d[k]=l\n",
    "print(d)\n",
    "student=pd.DataFrame(d)\n",
    "student"
   ]
  },
  {
   "cell_type": "code",
   "execution_count": null,
   "id": "4ad9f3b1",
   "metadata": {},
   "outputs": [],
   "source": []
  }
 ],
 "metadata": {
  "kernelspec": {
   "display_name": "Python 3 (ipykernel)",
   "language": "python",
   "name": "python3"
  },
  "language_info": {
   "codemirror_mode": {
    "name": "ipython",
    "version": 3
   },
   "file_extension": ".py",
   "mimetype": "text/x-python",
   "name": "python",
   "nbconvert_exporter": "python",
   "pygments_lexer": "ipython3",
   "version": "3.9.12"
  }
 },
 "nbformat": 4,
 "nbformat_minor": 5
}
